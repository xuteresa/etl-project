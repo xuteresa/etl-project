{
 "cells": [
  {
   "cell_type": "markdown",
   "metadata": {},
   "source": [
    "## Outline\n",
    "* Extract data into SQLite file, read tables into DataFrames with extracted columns\n",
    "    * Intermediary step: transform those DFs by selecting columns, renaming, and possibly joining based on the foreign key relationships\n",
    "* Extract data CSV file, read table into DataFrame with extracted columns\n",
    "* Transform DFs with inner join on strain name\n",
    "* Load the resulting DataFrame into postgres DB\n",
    "\n",
    "*Questions*\n",
    "* Is it ok that the final result only has one table or do we need multiple tables\n",
    "* Does this produce a DB with a good enough Size"
   ]
  },
  {
   "cell_type": "markdown",
   "metadata": {},
   "source": [
    "## Final Table columns:\n",
    "* Id (serial)\n",
    "* Strain (sql inner join with csv)\n",
    "* Type (csv Type)\n",
    "* Breeder\n",
    "* Rating_1 (csv - community rating)\n",
    "* Rating_2 (sql - medical effect rating)\n",
    "* Effects (csv - \n",
    "* Medical Effects\n",
    "* Flavor\n",
    "* Description"
   ]
  },
  {
   "cell_type": "code",
   "execution_count": null,
   "metadata": {},
   "outputs": [],
   "source": [
    "import pandas as pd\n",
    "from sqlalchemy import create_engine"
   ]
  },
  {
   "cell_type": "markdown",
   "metadata": {},
   "source": [
    "# Process SQLite File\n",
    "* For reference: ~/classwork/10-Advanced-Data-Storage-and-Retrieval/2/Activities/03-Ins_Basic_Updating/Solved/Ins_Basic_Updating.ipynb"
   ]
  },
  {
   "cell_type": "markdown",
   "metadata": {},
   "source": [
    "### Import SQLite file"
   ]
  },
  {
   "cell_type": "code",
   "execution_count": null,
   "metadata": {},
   "outputs": [],
   "source": [
    "# Create the connection engine\n",
    "engine = create_engine(\"sqlite:///../Resources/database.sqlite\")"
   ]
  },
  {
   "cell_type": "markdown",
   "metadata": {},
   "source": [
    "### Convert Strains table into DataFrame\n",
    "* Extract columns:\n",
    "    * id (fk for MedicalEffects), name, breeder (fk for Breeder id), \n",
    "* Rename into this:\n",
    "    * strain_id, strain_name, breeder_id"
   ]
  },
  {
   "cell_type": "code",
   "execution_count": null,
   "metadata": {},
   "outputs": [],
   "source": []
  },
  {
   "cell_type": "markdown",
   "metadata": {},
   "source": [
    "### Convert MedicalEffects Table into DataFrame\n",
    "* Extract these columns:\n",
    "    * strainid, name, info, rating\n",
    "* And rename them into this format:\n",
    "    * strainid, medical_effect, medical_info, medical_rating"
   ]
  },
  {
   "cell_type": "code",
   "execution_count": null,
   "metadata": {},
   "outputs": [],
   "source": []
  },
  {
   "cell_type": "markdown",
   "metadata": {},
   "source": [
    "### Convert Breeder Table into DataFrame\n",
    "* Extract these columns:\n",
    "    * id, name\n",
    "* Rename into this format:\n",
    "    * breeder_id, breeder_name"
   ]
  },
  {
   "cell_type": "code",
   "execution_count": null,
   "metadata": {},
   "outputs": [],
   "source": []
  },
  {
   "cell_type": "markdown",
   "metadata": {},
   "source": [
    "# Process cannabis.csv "
   ]
  },
  {
   "cell_type": "markdown",
   "metadata": {},
   "source": [
    "### Convert csv to DataFrame"
   ]
  },
  {
   "cell_type": "code",
   "execution_count": null,
   "metadata": {},
   "outputs": [],
   "source": [
    "file = \n",
    "csv_df = pd.read_csv(file)"
   ]
  },
  {
   "cell_type": "markdown",
   "metadata": {},
   "source": [
    "### Create processed DataFrame\n",
    "* Extract columns: Strain, Rating, Effects, Flavor, Description\n",
    "* Rename columns: strain, community_rating, effects, flavor, description"
   ]
  },
  {
   "cell_type": "markdown",
   "metadata": {},
   "source": []
  },
  {
   "cell_type": "markdown",
   "metadata": {},
   "source": [
    "# Create database and populate"
   ]
  },
  {
   "cell_type": "markdown",
   "metadata": {},
   "source": [
    "### Create database connection"
   ]
  },
  {
   "cell_type": "code",
   "execution_count": null,
   "metadata": {},
   "outputs": [],
   "source": [
    "connection_string = \"postgres:postgres@localhost:5432/customer_db\"\n",
    "engine = create_engine(f'postgresql://{connection_string}')"
   ]
  },
  {
   "cell_type": "code",
   "execution_count": null,
   "metadata": {},
   "outputs": [],
   "source": [
    "# Confirm tables\n",
    "engine.table_names()"
   ]
  },
  {
   "cell_type": "markdown",
   "metadata": {},
   "source": [
    "### Load DataFrames into DB"
   ]
  },
  {
   "cell_type": "code",
   "execution_count": null,
   "metadata": {},
   "outputs": [],
   "source": [
    "#starter code, must edit\n",
    "premise_transformed.to_sql(name='premise', con=engine, if_exists='append', index=True)"
   ]
  }
 ],
 "metadata": {
  "kernelspec": {
   "display_name": "Python 3",
   "language": "python",
   "name": "python3"
  },
  "language_info": {
   "codemirror_mode": {
    "name": "ipython",
    "version": 3
   },
   "file_extension": ".py",
   "mimetype": "text/x-python",
   "name": "python",
   "nbconvert_exporter": "python",
   "pygments_lexer": "ipython3",
   "version": "3.7.1"
  }
 },
 "nbformat": 4,
 "nbformat_minor": 2
}
